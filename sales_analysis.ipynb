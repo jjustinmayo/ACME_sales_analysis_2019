{
 "cells": [
  {
   "attachments": {},
   "cell_type": "markdown",
   "metadata": {},
   "source": [
    "### Import necessary packages"
   ]
  },
  {
   "cell_type": "code",
   "execution_count": 25,
   "metadata": {},
   "outputs": [],
   "source": [
    "import pandas as pd\n",
    "import os"
   ]
  },
  {
   "attachments": {},
   "cell_type": "markdown",
   "metadata": {},
   "source": [
    "Combine each month's sales summary into one combined dataframe, which we will import to MySQL to run queries."
   ]
  },
  {
   "cell_type": "code",
   "execution_count": 47,
   "metadata": {},
   "outputs": [],
   "source": [
    "directory = \"C:\\\\Users\\\\justi\\\\OneDrive\\\\Desktop\\\\PROJECTS\\\\Case Study - Sales Analysis 2019\\\\csv\"\n",
    "dataframes = []\n",
    "\n",
    "for filename in os.listdir(directory):\n",
    "    if filename.endswith(\".csv\"):\n",
    "        file_path = os.path.join(directory, filename)\n",
    "        df = pd.read_csv(file_path)\n",
    "        dataframes.append(df)\n",
    "\n",
    "# Concatenate the monthly date vertically with the same headers        \n",
    "combined_sales_df = pd.concat(dataframes, axis=0, ignore_index=True)\n",
    "\n",
    "# Data cleaning: remove all empty rows, and duplicate rows. Any additional cleaning is done manually via notepad++ \n",
    "combined_sales_df = combined_sales_df.dropna()\n",
    "combined_sales_df = combined_sales_df.drop_duplicates()\n",
    "\n",
    "# Download the dataframe to my desktop as a .csv \n",
    "combined_sales_df.to_csv(\"C:\\\\Users\\\\justi\\\\OneDrive\\\\Desktop\\\\acme_combined_sales_2019.csv\", index=False)\n"
   ]
  }
 ],
 "metadata": {
  "kernelspec": {
   "display_name": "base",
   "language": "python",
   "name": "python3"
  },
  "language_info": {
   "codemirror_mode": {
    "name": "ipython",
    "version": 3
   },
   "file_extension": ".py",
   "mimetype": "text/x-python",
   "name": "python",
   "nbconvert_exporter": "python",
   "pygments_lexer": "ipython3",
   "version": "3.10.9"
  },
  "orig_nbformat": 4
 },
 "nbformat": 4,
 "nbformat_minor": 2
}
